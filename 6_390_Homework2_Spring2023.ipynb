{
  "nbformat": 4,
  "nbformat_minor": 0,
  "metadata": {
    "colab": {
      "provenance": [],
      "include_colab_link": true
    },
    "kernelspec": {
      "name": "python3",
      "display_name": "Python 3"
    },
    "language_info": {
      "name": "python"
    }
  },
  "cells": [
    {
      "cell_type": "markdown",
      "metadata": {
        "id": "view-in-github",
        "colab_type": "text"
      },
      "source": [
        "<a href=\"https://colab.research.google.com/github/sxu1600/MIT6.390/blob/main/6_390_Homework2_Spring2023.ipynb\" target=\"_parent\"><img src=\"https://colab.research.google.com/assets/colab-badge.svg\" alt=\"Open In Colab\"/></a>"
      ]
    },
    {
      "cell_type": "markdown",
      "source": [
        "# 6.390 Spring 2023 Homework 2\n",
        "\n",
        "**If you haven't already, please hit :**\n",
        "\n",
        "`File` -> `Save a Copy in Drive`\n",
        "\n",
        "**to copy this notebook to your Google drive, and work on a copy. If you don't do this, your changes won't be saved!**"
      ],
      "metadata": {
        "id": "USxWiWVJmnAk"
      }
    },
    {
      "cell_type": "code",
      "execution_count": null,
      "metadata": {
        "id": "asA46P9SBahm"
      },
      "outputs": [],
      "source": [
        "# Run this cell to download the test functions for HW 2\n",
        "!rm -f hw02_tests.py\n",
        "!wget --quiet --no-check-certificate https://introml.mit.edu/_static/spring23/homework/hw02/hw02_tests.py\n",
        "from hw02_tests import *"
      ]
    },
    {
      "cell_type": "code",
      "source": [
        "import numpy as np"
      ],
      "metadata": {
        "id": "_dXTARz5BpK0"
      },
      "execution_count": null,
      "outputs": []
    },
    {
      "cell_type": "markdown",
      "source": [
        "**To look at the test functions more closely, click on the 📁 icon on the sidebar and double-click the hw02_tests.py file to open it in a new window. We leave it to you to implement the relevant code for each problem and test it, though hopefully it will be easy to match test function to problem via the function names and comments. Of course, if you ever have any questions, feel free to come to office hours or post on Piazza.**"
      ],
      "metadata": {
        "id": "VWn__Ll2sL0u"
      }
    },
    {
      "cell_type": "markdown",
      "source": [
        "For example, your might write the following code to answer problem 1.3"
      ],
      "metadata": {
        "id": "0FL-A0I5G1KE"
      }
    },
    {
      "cell_type": "code",
      "source": [
        "X = # from 1.1\n",
        "Y = # from 1.2\n",
        "theta = # your code here"
      ],
      "metadata": {
        "id": "ZkYglR_AG0dg"
      },
      "execution_count": null,
      "outputs": []
    },
    {
      "cell_type": "markdown",
      "source": [
        "For problem 6.2, you might need to implement `lin_reg_analytic(X, Y)`."
      ],
      "metadata": {
        "id": "X8GmwZfMWP2a"
      }
    }
  ]
}